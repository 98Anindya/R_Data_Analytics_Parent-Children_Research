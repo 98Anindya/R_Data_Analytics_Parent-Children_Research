{
 "cells": [
  {
   "cell_type": "code",
   "execution_count": 1,
   "id": "00bbf31b-b7a5-4154-89ed-5d93b9b80e5f",
   "metadata": {
    "tags": []
   },
   "outputs": [
    {
     "name": "stderr",
     "output_type": "stream",
     "text": [
      "also installing the dependencies ‘pkgbuild’, ‘diffobj’, ‘brio’, ‘desc’, ‘pkgload’, ‘praise’, ‘waldo’, ‘checkmate’, ‘testthat’, ‘gridExtra’, ‘htmlTable’, ‘viridis’, ‘Formula’, ‘minqa’, ‘nloptr’, ‘mvtnorm’, ‘sandwich’, ‘lpSolve’, ‘Hmisc’, ‘lme4’\n",
      "\n",
      "\n",
      "Updating HTML index of packages in '.Library'\n",
      "\n",
      "Making 'packages.html' ...\n",
      " done\n",
      "\n",
      "Loading required package: MASS\n",
      "\n",
      "Loading required package: Matrix\n",
      "\n",
      "Loading required package: mvtnorm\n",
      "\n",
      "Loading required package: sandwich\n",
      "\n",
      "mediation: Causal Mediation Analysis\n",
      "Version: 4.5.0\n",
      "\n",
      "\n"
     ]
    },
    {
     "name": "stdout",
     "output_type": "stream",
     "text": [
      "[1] \"Shapiro-Wilk Test for Normality:\"\n",
      "[1] \"BFI..E. p-value: 3.29237521349037e-21\"\n",
      "[1] \"PAQ p-value: 1.95572976553528e-19\"\n",
      "[1] \"Panas.. p-value: 7.56102739778441e-18\"\n",
      "Shapiro-Wilk Test for Normality of Panas.. :\n",
      "[1] \"p-value: 7.56102739778441e-18\"\n",
      "Shapiro-Wilk Test for Normality of Panas...1 :\n",
      "[1] \"p-value: 1.91915341924237e-23\"\n",
      "Shapiro-Wilk Test for Normality of BFI..E. :\n",
      "[1] \"p-value: 3.29237521349037e-21\"\n",
      "Shapiro-Wilk Test for Normality of BFI..A. :\n",
      "[1] \"p-value: 8.09747790119096e-19\"\n",
      "Shapiro-Wilk Test for Normality of BFI..C. :\n",
      "[1] \"p-value: 1.88065272166195e-20\"\n",
      "Shapiro-Wilk Test for Normality of BFI..N. :\n",
      "[1] \"p-value: 5.36904642737447e-19\"\n",
      "Shapiro-Wilk Test for Normality of BFI..O. :\n",
      "[1] \"p-value: 2.5812672934441e-23\"\n",
      "Shapiro-Wilk Test for Normality of EI..Self.A. :\n",
      "[1] \"p-value: 0.000230365680987184\"\n",
      "Shapiro-Wilk Test for Normality of EI..Self.M. :\n",
      "[1] \"p-value: 0.0005207026265117\"\n",
      "Shapiro-Wilk Test for Normality of EI..Social.A. :\n",
      "[1] \"p-value: 1.52105617368305e-07\"\n",
      "Shapiro-Wilk Test for Normality of EI..RM. :\n",
      "[1] \"p-value: 0.0116185274778922\"\n",
      "Shapiro-Wilk Test for Normality of Total :\n",
      "[1] \"p-value: 8.24612819044015e-12\"\n",
      "Shapiro-Wilk Test for Normality of PAQ :\n",
      "[1] \"p-value: 1.95572976553528e-19\"\n",
      "Shapiro-Wilk Test for Normality of CBCL :\n",
      "[1] \"p-value: 9.33865775872313e-19\"\n",
      "[1] \"Shapiro-Wilk Test Results:\"\n",
      "[1] \"Panas.. : Check\"\n",
      "[1] \"Panas...1 : Check\"\n",
      "[1] \"BFI..E. : Check\"\n",
      "[1] \"BFI..A. : Check\"\n",
      "[1] \"BFI..C. : Check\"\n",
      "[1] \"BFI..N. : Check\"\n",
      "[1] \"BFI..O. : Check\"\n",
      "[1] \"EI..Self.A. : Check\"\n",
      "[1] \"EI..Self.M. : Check\"\n",
      "[1] \"EI..Social.A. : Check\"\n",
      "[1] \"EI..RM. : Check\"\n",
      "[1] \"Total : Check\"\n",
      "[1] \"PAQ : Check\"\n",
      "[1] \"CBCL : Check\"\n"
     ]
    }
   ],
   "source": [
    "install.packages(\"mediation\")\n",
    "library(mediation)\n",
    "\n",
    "\n",
    "# Assume your dataset is named \"Data\" with columns: study_time, motivation, and exam_scores\n",
    "data <- read.csv(\"Complete_Data_Modified.csv\")\n",
    "\n",
    "# Step 1: Check for normality in the data\n",
    "# Shapiro-Wilk test for normality\n",
    "shapiro_test_BFI_E <- shapiro.test(data$BFI..E.)\n",
    "shapiro_test_PAQ <- shapiro.test(data$PAQ)\n",
    "shapiro_test_Panas <- shapiro.test(data$Panas..)\n",
    "\n",
    "# Check the results\n",
    "print(\"Shapiro-Wilk Test for Normality:\")\n",
    "print(paste(\"BFI..E. p-value:\", shapiro_test_BFI_E$p.value))\n",
    "print(paste(\"PAQ p-value:\", shapiro_test_PAQ$p.value))\n",
    "print(paste(\"Panas.. p-value:\", shapiro_test_Panas$p.value))\n",
    "\n",
    "#Part2\n",
    "\n",
    "# Function to perform Shapiro-Wilk test for normality and display p-values\n",
    "perform_shapiro_test <- function(column_name) {\n",
    "  shapiro_test <- shapiro.test(data[[column_name]])\n",
    "  cat(\"Shapiro-Wilk Test for Normality of\", column_name, \":\\n\")\n",
    "  print(paste(\"p-value:\", shapiro_test$p.value))\n",
    "}\n",
    "\n",
    "# List of columns to test for normality\n",
    "columns_to_test <- c('Panas..', 'Panas...1', 'BFI..E.', 'BFI..A.', 'BFI..C.', 'BFI..N.', 'BFI..O.', 'EI..Self.A.', 'EI..Self.M.', 'EI..Social.A.', 'EI..RM.', 'Total', 'PAQ', 'CBCL')\n",
    "\n",
    "# Perform Shapiro-Wilk test for normality for each column\n",
    "for (column in columns_to_test) {\n",
    "  perform_shapiro_test(column)\n",
    "}\n",
    "\n",
    "#Part3\n",
    "\n",
    "#the code to check the p-values from the Shapiro-Wilk test and display \"Check\" if the p-value is less than 0.05, indicating that the data significantly deviates from a normal distribution. Otherwise, it will display \"Okay\" if the p-value is greater than or equal to 0.05, indicating that the data is approximately normally distributed.\n",
    "\n",
    "\n",
    "\n",
    "# Create a vector with column names to test\n",
    "columns_to_test <- c('Panas..', 'Panas...1', 'BFI..E.', 'BFI..A.', 'BFI..C.', 'BFI..N.', 'BFI..O.', 'EI..Self.A.', 'EI..Self.M.', 'EI..Social.A.', 'EI..RM.', 'Total', 'PAQ', 'CBCL')\n",
    "\n",
    "# Function to perform Shapiro-Wilk test and display the result\n",
    "check_normality <- function(column) {\n",
    "  shapiro_test_result <- shapiro.test(data[[column]])\n",
    "  if (shapiro_test_result$p.value < 0.05) {\n",
    "    return(\"Check\")\n",
    "  } else {\n",
    "    return(\"Okay\")\n",
    "  }\n",
    "}\n",
    "\n",
    "# Check for normality in each column\n",
    "normality_results <- sapply(columns_to_test, check_normality)\n",
    "\n",
    "# Display the results\n",
    "print(\"Shapiro-Wilk Test Results:\")\n",
    "for (i in seq_along(columns_to_test)) {\n",
    "  print(paste(columns_to_test[i], \":\", normality_results[i]))\n",
    "}\n"
   ]
  },
  {
   "cell_type": "code",
   "execution_count": 3,
   "id": "1185e12f-b174-438d-9118-fe7cc6654962",
   "metadata": {
    "tags": []
   },
   "outputs": [
    {
     "name": "stderr",
     "output_type": "stream",
     "text": [
      "Warning message in ks.test.default(data[[col_name]], \"pnorm\"):\n",
      "“ties should not be present for the Kolmogorov-Smirnov test”\n"
     ]
    },
    {
     "name": "stdout",
     "output_type": "stream",
     "text": [
      "[1] \"Column: Panas..\"\n",
      "[1] \"Test statistic: 0.841344746068543\"\n",
      "[1] \"P-value: 0\"\n",
      "[1] \"The distribution is significantly different from normal.\"\n",
      "\n"
     ]
    },
    {
     "name": "stderr",
     "output_type": "stream",
     "text": [
      "Warning message in ks.test.default(data[[col_name]], \"pnorm\"):\n",
      "“ties should not be present for the Kolmogorov-Smirnov test”\n"
     ]
    },
    {
     "name": "stdout",
     "output_type": "stream",
     "text": [
      "[1] \"Column: Panas...1\"\n",
      "[1] \"Test statistic: 0.841344746068543\"\n",
      "[1] \"P-value: 0\"\n",
      "[1] \"The distribution is significantly different from normal.\"\n",
      "\n"
     ]
    },
    {
     "name": "stderr",
     "output_type": "stream",
     "text": [
      "Warning message in ks.test.default(data[[col_name]], \"pnorm\"):\n",
      "“ties should not be present for the Kolmogorov-Smirnov test”\n"
     ]
    },
    {
     "name": "stdout",
     "output_type": "stream",
     "text": [
      "[1] \"Column: BFI..E.\"\n",
      "[1] \"Test statistic: 0.841344746068543\"\n",
      "[1] \"P-value: 0\"\n",
      "[1] \"The distribution is significantly different from normal.\"\n",
      "\n"
     ]
    },
    {
     "name": "stderr",
     "output_type": "stream",
     "text": [
      "Warning message in ks.test.default(data[[col_name]], \"pnorm\"):\n",
      "“ties should not be present for the Kolmogorov-Smirnov test”\n"
     ]
    },
    {
     "name": "stdout",
     "output_type": "stream",
     "text": [
      "[1] \"Column: BFI..A.\"\n",
      "[1] \"Test statistic: 0.841344746068543\"\n",
      "[1] \"P-value: 0\"\n",
      "[1] \"The distribution is significantly different from normal.\"\n",
      "\n"
     ]
    },
    {
     "name": "stderr",
     "output_type": "stream",
     "text": [
      "Warning message in ks.test.default(data[[col_name]], \"pnorm\"):\n",
      "“ties should not be present for the Kolmogorov-Smirnov test”\n"
     ]
    },
    {
     "name": "stdout",
     "output_type": "stream",
     "text": [
      "[1] \"Column: BFI..C.\"\n",
      "[1] \"Test statistic: 0.841344746068543\"\n",
      "[1] \"P-value: 0\"\n",
      "[1] \"The distribution is significantly different from normal.\"\n",
      "\n"
     ]
    },
    {
     "name": "stderr",
     "output_type": "stream",
     "text": [
      "Warning message in ks.test.default(data[[col_name]], \"pnorm\"):\n",
      "“ties should not be present for the Kolmogorov-Smirnov test”\n"
     ]
    },
    {
     "name": "stdout",
     "output_type": "stream",
     "text": [
      "[1] \"Column: BFI..N.\"\n",
      "[1] \"Test statistic: 0.923851809799394\"\n",
      "[1] \"P-value: 0\"\n",
      "[1] \"The distribution is significantly different from normal.\"\n",
      "\n"
     ]
    },
    {
     "name": "stderr",
     "output_type": "stream",
     "text": [
      "Warning message in ks.test.default(data[[col_name]], \"pnorm\"):\n",
      "“ties should not be present for the Kolmogorov-Smirnov test”\n"
     ]
    },
    {
     "name": "stdout",
     "output_type": "stream",
     "text": [
      "[1] \"Column: BFI..O.\"\n",
      "[1] \"Test statistic: 0.894725596207161\"\n",
      "[1] \"P-value: 0\"\n",
      "[1] \"The distribution is significantly different from normal.\"\n",
      "\n"
     ]
    },
    {
     "name": "stderr",
     "output_type": "stream",
     "text": [
      "Warning message in ks.test.default(data[[col_name]], \"pnorm\"):\n",
      "“ties should not be present for the Kolmogorov-Smirnov test”\n"
     ]
    },
    {
     "name": "stdout",
     "output_type": "stream",
     "text": [
      "[1] \"Column: EI..Self.A.\"\n",
      "[1] \"Test statistic: 1\"\n",
      "[1] \"P-value: 0\"\n",
      "[1] \"The distribution is significantly different from normal.\"\n",
      "\n"
     ]
    },
    {
     "name": "stderr",
     "output_type": "stream",
     "text": [
      "Warning message in ks.test.default(data[[col_name]], \"pnorm\"):\n",
      "“ties should not be present for the Kolmogorov-Smirnov test”\n"
     ]
    },
    {
     "name": "stdout",
     "output_type": "stream",
     "text": [
      "[1] \"Column: EI..Self.M.\"\n",
      "[1] \"Test statistic: 1\"\n",
      "[1] \"P-value: 0\"\n",
      "[1] \"The distribution is significantly different from normal.\"\n",
      "\n"
     ]
    },
    {
     "name": "stderr",
     "output_type": "stream",
     "text": [
      "Warning message in ks.test.default(data[[col_name]], \"pnorm\"):\n",
      "“ties should not be present for the Kolmogorov-Smirnov test”\n"
     ]
    },
    {
     "name": "stdout",
     "output_type": "stream",
     "text": [
      "[1] \"Column: EI..Social.A.\"\n",
      "[1] \"Test statistic: 1\"\n",
      "[1] \"P-value: 0\"\n",
      "[1] \"The distribution is significantly different from normal.\"\n",
      "\n"
     ]
    },
    {
     "name": "stderr",
     "output_type": "stream",
     "text": [
      "Warning message in ks.test.default(data[[col_name]], \"pnorm\"):\n",
      "“ties should not be present for the Kolmogorov-Smirnov test”\n"
     ]
    },
    {
     "name": "stdout",
     "output_type": "stream",
     "text": [
      "[1] \"Column: EI..RM.\"\n",
      "[1] \"Test statistic: 1\"\n",
      "[1] \"P-value: 0\"\n",
      "[1] \"The distribution is significantly different from normal.\"\n",
      "\n"
     ]
    },
    {
     "name": "stderr",
     "output_type": "stream",
     "text": [
      "Warning message in ks.test.default(data[[col_name]], \"pnorm\"):\n",
      "“ties should not be present for the Kolmogorov-Smirnov test”\n"
     ]
    },
    {
     "name": "stdout",
     "output_type": "stream",
     "text": [
      "[1] \"Column: Total\"\n",
      "[1] \"Test statistic: 0.928706178731432\"\n",
      "[1] \"P-value: 0\"\n",
      "[1] \"The distribution is significantly different from normal.\"\n",
      "\n"
     ]
    },
    {
     "name": "stderr",
     "output_type": "stream",
     "text": [
      "Warning message in ks.test.default(data[[col_name]], \"pnorm\"):\n",
      "“ties should not be present for the Kolmogorov-Smirnov test”\n"
     ]
    },
    {
     "name": "stdout",
     "output_type": "stream",
     "text": [
      "[1] \"Column: PAQ\"\n",
      "[1] \"Test statistic: 0.841344746068543\"\n",
      "[1] \"P-value: 0\"\n",
      "[1] \"The distribution is significantly different from normal.\"\n",
      "\n"
     ]
    },
    {
     "name": "stderr",
     "output_type": "stream",
     "text": [
      "Warning message in ks.test.default(data[[col_name]], \"pnorm\"):\n",
      "“ties should not be present for the Kolmogorov-Smirnov test”\n"
     ]
    },
    {
     "name": "stdout",
     "output_type": "stream",
     "text": [
      "[1] \"Column: CBCL\"\n",
      "[1] \"Test statistic: 0.841344746068543\"\n",
      "[1] \"P-value: 0\"\n",
      "[1] \"The distribution is significantly different from normal.\"\n",
      "\n"
     ]
    }
   ],
   "source": [
    "# Load required library for Kolmogorov-Smirnov test\n",
    "if (!requireNamespace(\"lawstat\", quietly = TRUE)) {\n",
    "  install.packages(\"lawstat\")\n",
    "}\n",
    "library(lawstat)\n",
    "\n",
    "data <- read.csv(\"Complete_Data_Modified.csv\")\n",
    "\n",
    "\n",
    "\n",
    "# Perform Kolmogorov-Smirnov test for normality for each column\n",
    "for (col_name in colnames(data)) {\n",
    "  ks_test_result <- ks.test(data[[col_name]], \"pnorm\")\n",
    "  print(paste(\"Column:\", col_name))\n",
    "  print(paste(\"Test statistic:\", ks_test_result$statistic))\n",
    "  print(paste(\"P-value:\", ks_test_result$p.value))\n",
    "  if (ks_test_result$p.value < 0.05) {\n",
    "    print(\"The distribution is significantly different from normal.\")\n",
    "  } else {\n",
    "    print(\"The distribution is not significantly different from normal.\")\n",
    "  }\n",
    "  cat(\"\\n\")\n",
    "}\n"
   ]
  },
  {
   "cell_type": "code",
   "execution_count": 4,
   "id": "de46d788-5553-4411-b616-b83525b6121f",
   "metadata": {
    "tags": []
   },
   "outputs": [
    {
     "name": "stdout",
     "output_type": "stream",
     "text": [
      "[1] \"Column: Panas..\"\n",
      "[1] \"Test statistic: 0.735732456276337\"\n",
      "[1] \"P-value: 7.56102739778441e-18\"\n",
      "[1] \"The distribution is significantly different from normal.\"\n",
      "\n",
      "[1] \"Column: Panas...1\"\n",
      "[1] \"Test statistic: 0.518613225763599\"\n",
      "[1] \"P-value: 1.91915341924237e-23\"\n",
      "[1] \"The distribution is significantly different from normal.\"\n",
      "\n",
      "[1] \"Column: BFI..E.\"\n",
      "[1] \"Test statistic: 0.617177554096594\"\n",
      "[1] \"P-value: 3.29237521349037e-21\"\n",
      "[1] \"The distribution is significantly different from normal.\"\n",
      "\n",
      "[1] \"Column: BFI..A.\"\n",
      "[1] \"Test statistic: 0.704828178305341\"\n",
      "[1] \"P-value: 8.09747790119096e-19\"\n",
      "[1] \"The distribution is significantly different from normal.\"\n",
      "\n",
      "[1] \"Column: BFI..C.\"\n",
      "[1] \"Test statistic: 0.646791650473648\"\n",
      "[1] \"P-value: 1.88065272166195e-20\"\n",
      "[1] \"The distribution is significantly different from normal.\"\n",
      "\n",
      "[1] \"Column: BFI..N.\"\n",
      "[1] \"Test statistic: 0.698864559678619\"\n",
      "[1] \"P-value: 5.36904642737447e-19\"\n",
      "[1] \"The distribution is significantly different from normal.\"\n",
      "\n",
      "[1] \"Column: BFI..O.\"\n",
      "[1] \"Test statistic: 0.524770217806934\"\n",
      "[1] \"P-value: 2.5812672934441e-23\"\n",
      "[1] \"The distribution is significantly different from normal.\"\n",
      "\n",
      "[1] \"Column: EI..Self.A.\"\n",
      "[1] \"Test statistic: 0.970130140690256\"\n",
      "[1] \"P-value: 0.000230365680987184\"\n",
      "[1] \"The distribution is significantly different from normal.\"\n",
      "\n",
      "[1] \"Column: EI..Self.M.\"\n",
      "[1] \"Test statistic: 0.972891364629576\"\n",
      "[1] \"P-value: 0.0005207026265117\"\n",
      "[1] \"The distribution is significantly different from normal.\"\n",
      "\n",
      "[1] \"Column: EI..Social.A.\"\n",
      "[1] \"Test statistic: 0.93971326712911\"\n",
      "[1] \"P-value: 1.52105617368305e-07\"\n",
      "[1] \"The distribution is significantly different from normal.\"\n",
      "\n",
      "[1] \"Column: EI..RM.\"\n",
      "[1] \"Test statistic: 0.982508397052503\"\n",
      "[1] \"P-value: 0.0116185274778922\"\n",
      "[1] \"The distribution is significantly different from normal.\"\n",
      "\n",
      "[1] \"Column: Total\"\n",
      "[1] \"Test statistic: 0.878581522917102\"\n",
      "[1] \"P-value: 8.24612819044015e-12\"\n",
      "[1] \"The distribution is significantly different from normal.\"\n",
      "\n",
      "[1] \"Column: PAQ\"\n",
      "[1] \"Test statistic: 0.683825869387246\"\n",
      "[1] \"P-value: 1.95572976553528e-19\"\n",
      "[1] \"The distribution is significantly different from normal.\"\n",
      "\n",
      "[1] \"Column: CBCL\"\n",
      "[1] \"Test statistic: 0.706877246551081\"\n",
      "[1] \"P-value: 9.33865775872313e-19\"\n",
      "[1] \"The distribution is significantly different from normal.\"\n",
      "\n"
     ]
    }
   ],
   "source": [
    "# Load required library for Shapiro-Wilk test\n",
    "if (!requireNamespace(\"stats\", quietly = TRUE)) {\n",
    "  install.packages(\"stats\")\n",
    "}\n",
    "library(stats)\n",
    "\n",
    "data <- read.csv(\"Complete_Data_Modified.csv\")\n",
    "\n",
    "# Perform Shapiro-Wilk test for normality for each column\n",
    "for (col_name in colnames(data)) {\n",
    "  shapiro_test_result <- shapiro.test(data[[col_name]])\n",
    "  print(paste(\"Column:\", col_name))\n",
    "  print(paste(\"Test statistic:\", shapiro_test_result$statistic))\n",
    "  print(paste(\"P-value:\", shapiro_test_result$p.value))\n",
    "  if (shapiro_test_result$p.value < 0.05) {\n",
    "    print(\"The distribution is significantly different from normal.\")\n",
    "  } else {\n",
    "    print(\"The distribution is not significantly different from normal.\")\n",
    "  }\n",
    "  cat(\"\\n\")\n",
    "}\n"
   ]
  },
  {
   "cell_type": "code",
   "execution_count": null,
   "id": "566a84f7-0239-4a89-80c3-1c9b6037e1b0",
   "metadata": {},
   "outputs": [],
   "source": []
  }
 ],
 "metadata": {
  "kernelspec": {
   "display_name": "R",
   "language": "R",
   "name": "ir"
  },
  "language_info": {
   "codemirror_mode": "r",
   "file_extension": ".r",
   "mimetype": "text/x-r-source",
   "name": "R",
   "pygments_lexer": "r",
   "version": "4.3.2"
  }
 },
 "nbformat": 4,
 "nbformat_minor": 5
}
