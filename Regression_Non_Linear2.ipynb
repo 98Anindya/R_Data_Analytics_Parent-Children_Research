{
 "cells": [
  {
   "cell_type": "code",
   "execution_count": 1,
   "id": "da8d4410-ec47-484f-98ce-01f138b74dfd",
   "metadata": {
    "tags": []
   },
   "outputs": [
    {
     "name": "stdout",
     "output_type": "stream",
     "text": [
      "Fitted Coefficients:\n",
      "          a           b           c           d           e           f \n",
      " 0.01182203 -0.09544846  0.41092236  0.29481159  0.06225389  0.67359235 \n",
      "          g           h           i           j           k \n",
      "-0.06414928  0.08320356 -0.20025828 -0.14833795 -0.04516440 \n",
      "\n",
      "Model Formula:\n",
      "Panas...1 = a * BFI..E. + b * BFI..A. + c * BFI..C. + d * BFI..N. + e * BFI..O. + f * PAQ +\n",
      "            g * BFI..E. * PAQ + h * BFI..A. * PAQ + i * BFI..C. * PAQ + j * BFI..N. * PAQ + k * BFI..O. * PAQ\n"
     ]
    },
    {
     "data": {
      "text/plain": [
       "\n",
       "Formula: Panas...1 ~ a * BFI..E. + b * BFI..A. + c * BFI..C. + d * BFI..N. + \n",
       "    e * BFI..O. + f * PAQ + g * BFI..E. * PAQ + h * BFI..A. * \n",
       "    PAQ + i * BFI..C. * PAQ + j * BFI..N. * PAQ + k * BFI..O. * \n",
       "    PAQ\n",
       "\n",
       "Parameters:\n",
       "  Estimate Std. Error t value Pr(>|t|)    \n",
       "a  0.01182    0.14059   0.084 0.933071    \n",
       "b -0.09545    0.14833  -0.644 0.520650    \n",
       "c  0.41092    0.14649   2.805 0.005538 ** \n",
       "d  0.29481    0.10240   2.879 0.004434 ** \n",
       "e  0.06225    0.17574   0.354 0.723547    \n",
       "f  0.67359    0.17815   3.781 0.000207 ***\n",
       "g -0.06415    0.09352  -0.686 0.493578    \n",
       "h  0.08320    0.08469   0.982 0.327113    \n",
       "i -0.20026    0.09104  -2.200 0.029001 *  \n",
       "j -0.14834    0.06581  -2.254 0.025305 *  \n",
       "k -0.04516    0.11905  -0.379 0.704827    \n",
       "---\n",
       "Signif. codes:  0 ‘***’ 0.001 ‘**’ 0.01 ‘*’ 0.05 ‘.’ 0.1 ‘ ’ 1\n",
       "\n",
       "Residual standard error: 0.4258 on 195 degrees of freedom\n",
       "\n",
       "Number of iterations to convergence: 1 \n",
       "Achieved convergence tolerance: 3.225e-07\n"
      ]
     },
     "metadata": {},
     "output_type": "display_data"
    }
   ],
   "source": [
    "# Model 1\n",
    "\n",
    "# Define your variables\n",
    "independent_vars <- c('BFI..E.', 'BFI..A.', 'BFI..C.', 'BFI..N.', 'BFI..O.')\n",
    "dependent_var <- 'Panas...1'\n",
    "mediator_var <- 'PAQ'\n",
    "\n",
    "# Load your data (replace 'your_data.csv' with the actual file name)\n",
    "data <- read.csv(\"Complete_Data_Modified.csv\")\n",
    "\n",
    "# Initial guess for the parameters (adjust as needed)\n",
    "initial_parameters <- list(a = 1, b = 1, c = 1, d = 1, e = 1, f = 1, g = 1, h = 1, i = 1, j = 1, k = 1)\n",
    "\n",
    "# Define the nonlinear model with interaction terms\n",
    "nonlinear_model <- nls(Panas...1 ~ a * BFI..E. + b * BFI..A. + c * BFI..C. + d * BFI..N. + e * BFI..O. + f * PAQ +\n",
    "                       g * BFI..E. * PAQ + h * BFI..A. * PAQ + i * BFI..C. * PAQ + j * BFI..N. * PAQ + k * BFI..O. * PAQ,\n",
    "                       data = data,\n",
    "                       start = initial_parameters)\n",
    "\n",
    "# Display the model coefficients and formula\n",
    "cat(\"Fitted Coefficients:\\n\")\n",
    "print(coef(nonlinear_model))\n",
    "\n",
    "cat(\"\\nModel Formula:\\n\")\n",
    "cat(\"Panas...1 = a * BFI..E. + b * BFI..A. + c * BFI..C. + d * BFI..N. + e * BFI..O. + f * PAQ +\\n\",\n",
    "    \"           g * BFI..E. * PAQ + h * BFI..A. * PAQ + i * BFI..C. * PAQ + j * BFI..N. * PAQ + k * BFI..O. * PAQ\\n\")\n",
    "\n",
    "# Display the summary of the model\n",
    "summary(nonlinear_model)\n"
   ]
  },
  {
   "cell_type": "code",
   "execution_count": 3,
   "id": "dfd185e2-935a-440a-8bbd-ff949fa25f7f",
   "metadata": {
    "tags": []
   },
   "outputs": [
    {
     "name": "stdout",
     "output_type": "stream",
     "text": [
      "Fitted Coefficients:\n",
      "          a           b           c           d           e           f \n",
      " 0.12688771 -0.14781641  0.37380229  0.11487750  0.46167358  0.67917847 \n",
      "          g           h           i           j           k \n",
      "-0.07576935  0.22474372 -0.31728639 -0.08291385 -0.15988633 \n",
      "\n",
      "Model Formula:\n",
      "Panas.. = a * BFI..E. + b * BFI..A. + c * BFI..C. + d * BFI..N. + e * BFI..O. + f * PAQ +\n",
      "            g * BFI..E. * PAQ + h * BFI..A. * PAQ + i * BFI..C. * PAQ + j * BFI..N. * PAQ + k * BFI..O. * PAQ\n"
     ]
    },
    {
     "data": {
      "text/plain": [
       "\n",
       "Formula: Panas.. ~ a * BFI..E. + b * BFI..A. + c * BFI..C. + d * BFI..N. + \n",
       "    e * BFI..O. + f * PAQ + g * BFI..E. * PAQ + h * BFI..A. * \n",
       "    PAQ + i * BFI..C. * PAQ + j * BFI..N. * PAQ + k * BFI..O. * \n",
       "    PAQ\n",
       "\n",
       "Parameters:\n",
       "  Estimate Std. Error t value Pr(>|t|)   \n",
       "a  0.12689    0.18884   0.672  0.50242   \n",
       "b -0.14782    0.19923  -0.742  0.45902   \n",
       "c  0.37380    0.19676   1.900  0.05894 . \n",
       "d  0.11488    0.13754   0.835  0.40462   \n",
       "e  0.46167    0.23606   1.956  0.05192 . \n",
       "f  0.67918    0.23929   2.838  0.00501 **\n",
       "g -0.07577    0.12562  -0.603  0.54710   \n",
       "h  0.22474    0.11376   1.976  0.04961 * \n",
       "i -0.31729    0.12228  -2.595  0.01019 * \n",
       "j -0.08291    0.08840  -0.938  0.34941   \n",
       "k -0.15989    0.15991  -1.000  0.31862   \n",
       "---\n",
       "Signif. codes:  0 ‘***’ 0.001 ‘**’ 0.01 ‘*’ 0.05 ‘.’ 0.1 ‘ ’ 1\n",
       "\n",
       "Residual standard error: 0.5719 on 195 degrees of freedom\n",
       "\n",
       "Number of iterations to convergence: 1 \n",
       "Achieved convergence tolerance: 1.514e-07\n"
      ]
     },
     "metadata": {},
     "output_type": "display_data"
    }
   ],
   "source": [
    "# Model 1\n",
    "\n",
    "# Define your variables\n",
    "independent_vars <- c('BFI..E.', 'BFI..A.', 'BFI..C.', 'BFI..N.', 'BFI..O.')\n",
    "dependent_var <- 'Panas..'\n",
    "mediator_var <- 'PAQ'\n",
    "\n",
    "# Load your data (replace 'your_data.csv' with the actual file name)\n",
    "data <- read.csv(\"Complete_Data_Modified.csv\")\n",
    "\n",
    "# Initial guess for the parameters (adjust as needed)\n",
    "initial_parameters <- list(a = 1, b = 1, c = 1, d = 1, e = 1, f = 1, g = 1, h = 1, i = 1, j = 1, k = 1)\n",
    "\n",
    "# Define the nonlinear model with interaction terms\n",
    "nonlinear_model <- nls(Panas.. ~ a * BFI..E. + b * BFI..A. + c * BFI..C. + d * BFI..N. + e * BFI..O. + f * PAQ +\n",
    "                       g * BFI..E. * PAQ + h * BFI..A. * PAQ + i * BFI..C. * PAQ + j * BFI..N. * PAQ + k * BFI..O. * PAQ,\n",
    "                       data = data,\n",
    "                       start = initial_parameters)\n",
    "\n",
    "# Display the model coefficients and formula\n",
    "cat(\"Fitted Coefficients:\\n\")\n",
    "print(coef(nonlinear_model))\n",
    "\n",
    "cat(\"\\nModel Formula:\\n\")\n",
    "cat(\"Panas.. = a * BFI..E. + b * BFI..A. + c * BFI..C. + d * BFI..N. + e * BFI..O. + f * PAQ +\\n\",\n",
    "    \"           g * BFI..E. * PAQ + h * BFI..A. * PAQ + i * BFI..C. * PAQ + j * BFI..N. * PAQ + k * BFI..O. * PAQ\\n\")\n",
    "\n",
    "# Display the summary of the model\n",
    "summary(nonlinear_model)\n"
   ]
  },
  {
   "cell_type": "code",
   "execution_count": 4,
   "id": "34a9d174-b7d6-4847-924f-f3630363fee4",
   "metadata": {
    "tags": []
   },
   "outputs": [
    {
     "name": "stdout",
     "output_type": "stream",
     "text": [
      "Fitted Coefficients:\n",
      "          a           b           c           d           e           f \n",
      " 0.27048925  0.11186260 -0.23888999  0.43825980  0.61335618  1.79111827 \n",
      "          g           h           i           j           k \n",
      "-0.11937814 -0.13712435  0.06880302 -0.18273917 -0.53113688 \n",
      "\n",
      "Model Formula:\n",
      "CBCL = a * BFI..E. + b * BFI..A. + c * BFI..C. + d * BFI..N. + e * BFI..O. + f * PAQ +\n",
      "            g * BFI..E. * PAQ + h * BFI..A. * PAQ + i * BFI..C. * PAQ + j * BFI..N. * PAQ + k * BFI..O. * PAQ\n"
     ]
    },
    {
     "data": {
      "text/plain": [
       "\n",
       "Formula: CBCL ~ a * BFI..E. + b * BFI..A. + c * BFI..C. + d * BFI..N. + \n",
       "    e * BFI..O. + f * PAQ + g * BFI..E. * PAQ + h * BFI..A. * \n",
       "    PAQ + i * BFI..C. * PAQ + j * BFI..N. * PAQ + k * BFI..O. * \n",
       "    PAQ\n",
       "\n",
       "Parameters:\n",
       "  Estimate Std. Error t value Pr(>|t|)    \n",
       "a   0.2705     0.2345   1.154   0.2500    \n",
       "b   0.1119     0.2474   0.452   0.6516    \n",
       "c  -0.2389     0.2443  -0.978   0.3293    \n",
       "d   0.4383     0.1708   2.566   0.0110 *  \n",
       "e   0.6134     0.2931   2.093   0.0377 *  \n",
       "f   1.7911     0.2971   6.029 8.13e-09 ***\n",
       "g  -0.1194     0.1560  -0.765   0.4450    \n",
       "h  -0.1371     0.1412  -0.971   0.3328    \n",
       "i   0.0688     0.1518   0.453   0.6509    \n",
       "j  -0.1827     0.1098  -1.665   0.0975 .  \n",
       "k  -0.5311     0.1985  -2.675   0.0081 ** \n",
       "---\n",
       "Signif. codes:  0 ‘***’ 0.001 ‘**’ 0.01 ‘*’ 0.05 ‘.’ 0.1 ‘ ’ 1\n",
       "\n",
       "Residual standard error: 0.7101 on 195 degrees of freedom\n",
       "\n",
       "Number of iterations to convergence: 1 \n",
       "Achieved convergence tolerance: 1.408e-07\n"
      ]
     },
     "metadata": {},
     "output_type": "display_data"
    }
   ],
   "source": [
    "# Model 1\n",
    "\n",
    "# Define your variables\n",
    "independent_vars <- c('BFI..E.', 'BFI..A.', 'BFI..C.', 'BFI..N.', 'BFI..O.')\n",
    "dependent_var <- 'CBCL'\n",
    "mediator_var <- 'PAQ'\n",
    "\n",
    "# Load your data (replace 'your_data.csv' with the actual file name)\n",
    "data <- read.csv(\"Complete_Data_Modified.csv\")\n",
    "\n",
    "# Initial guess for the parameters (adjust as needed)\n",
    "initial_parameters <- list(a = 1, b = 1, c = 1, d = 1, e = 1, f = 1, g = 1, h = 1, i = 1, j = 1, k = 1)\n",
    "\n",
    "# Define the nonlinear model with interaction terms\n",
    "nonlinear_model <- nls(CBCL ~ a * BFI..E. + b * BFI..A. + c * BFI..C. + d * BFI..N. + e * BFI..O. + f * PAQ +\n",
    "                       g * BFI..E. * PAQ + h * BFI..A. * PAQ + i * BFI..C. * PAQ + j * BFI..N. * PAQ + k * BFI..O. * PAQ,\n",
    "                       data = data,\n",
    "                       start = initial_parameters)\n",
    "\n",
    "# Display the model coefficients and formula\n",
    "cat(\"Fitted Coefficients:\\n\")\n",
    "print(coef(nonlinear_model))\n",
    "\n",
    "cat(\"\\nModel Formula:\\n\")\n",
    "cat(\"CBCL = a * BFI..E. + b * BFI..A. + c * BFI..C. + d * BFI..N. + e * BFI..O. + f * PAQ +\\n\",\n",
    "    \"           g * BFI..E. * PAQ + h * BFI..A. * PAQ + i * BFI..C. * PAQ + j * BFI..N. * PAQ + k * BFI..O. * PAQ\\n\")\n",
    "\n",
    "# Display the summary of the model\n",
    "summary(nonlinear_model)\n"
   ]
  },
  {
   "cell_type": "code",
   "execution_count": 5,
   "id": "fc56baf7-7638-48e3-8058-71d8455e077c",
   "metadata": {
    "tags": []
   },
   "outputs": [
    {
     "name": "stdout",
     "output_type": "stream",
     "text": [
      "Fitted Coefficients:\n",
      "           a            b            c            d            e            f \n",
      " 0.023991650  0.001157863 -0.006595500  0.021726800 -0.402420736  0.834481279 \n",
      "           g            h            i            j            k \n",
      "-0.009796460  0.002507173  0.002965629 -0.015093714  0.165494224 \n",
      "\n",
      "Model Formula:\n",
      "Panas.. = a * EI..Self.A. + b * EI..Self.M. + c * EI..Social.A. + d * EI..RM. + e * Total + f * PAQ +\n",
      "            g * EI..Self.A. * PAQ + h * EI..Self.M. * PAQ + i * EI..Social.A. * PAQ +\n",
      "            j * EI..RM. * PAQ + k * Total * PAQ\n"
     ]
    },
    {
     "data": {
      "text/plain": [
       "\n",
       "Formula: Panas.. ~ a * EI..Self.A. + b * EI..Self.M. + c * EI..Social.A. + \n",
       "    d * EI..RM. + e * Total + f * PAQ + g * EI..Self.A. * PAQ + \n",
       "    h * EI..Self.M. * PAQ + i * EI..Social.A. * PAQ + j * EI..RM. * \n",
       "    PAQ + k * Total * PAQ\n",
       "\n",
       "Parameters:\n",
       "   Estimate Std. Error t value Pr(>|t|)  \n",
       "a  0.023992   0.011881   2.019   0.0448 *\n",
       "b  0.001158   0.010995   0.105   0.9162  \n",
       "c -0.006595   0.012772  -0.516   0.6062  \n",
       "d  0.021727   0.012525   1.735   0.0844 .\n",
       "e -0.402421   0.183608  -2.192   0.0296 *\n",
       "f  0.834481   0.378726   2.203   0.0287 *\n",
       "g -0.009796   0.006047  -1.620   0.1068  \n",
       "h  0.002507   0.005614   0.447   0.6556  \n",
       "i  0.002966   0.007781   0.381   0.7035  \n",
       "j -0.015094   0.006996  -2.158   0.0322 *\n",
       "k  0.165494   0.100742   1.643   0.1020  \n",
       "---\n",
       "Signif. codes:  0 ‘***’ 0.001 ‘**’ 0.01 ‘*’ 0.05 ‘.’ 0.1 ‘ ’ 1\n",
       "\n",
       "Residual standard error: 0.5835 on 195 degrees of freedom\n",
       "\n",
       "Number of iterations to convergence: 1 \n",
       "Achieved convergence tolerance: 3.173e-07\n"
      ]
     },
     "metadata": {},
     "output_type": "display_data"
    }
   ],
   "source": [
    "# Model 1\n",
    "\n",
    "# Define your variables\n",
    "independent_vars <- c('EI..Self.A.', 'EI..Self.M.', 'EI..Social.A.', 'EI..RM.', 'Total')\n",
    "dependent_var <- 'Panas..'\n",
    "mediator_var <- 'PAQ'\n",
    "\n",
    "# Load your data (replace 'your_data.csv' with the actual file name)\n",
    "data <- read.csv(\"Complete_Data_Modified.csv\")\n",
    "\n",
    "\n",
    "# Initial guess for the parameters (adjust as needed)\n",
    "initial_parameters <- list(a = 1, b = 1, c = 1, d = 1, e = 1, f = 1, g = 1, h = 1, i = 1, j = 1, k = 1)\n",
    "\n",
    "# Define the nonlinear model with interaction terms\n",
    "nonlinear_model <- nls(Panas.. ~ a * EI..Self.A. + b * EI..Self.M. + c * EI..Social.A. + d * EI..RM. + e * Total +\n",
    "                       f * PAQ + g * EI..Self.A. * PAQ + h * EI..Self.M. * PAQ + i * EI..Social.A. * PAQ +\n",
    "                       j * EI..RM. * PAQ + k * Total * PAQ,\n",
    "                       data = data,\n",
    "                       start = initial_parameters)\n",
    "\n",
    "# Display the model coefficients and formula\n",
    "cat(\"Fitted Coefficients:\\n\")\n",
    "print(coef(nonlinear_model))\n",
    "\n",
    "cat(\"\\nModel Formula:\\n\")\n",
    "cat(\"Panas.. = a * EI..Self.A. + b * EI..Self.M. + c * EI..Social.A. + d * EI..RM. + e * Total + f * PAQ +\\n\",\n",
    "    \"           g * EI..Self.A. * PAQ + h * EI..Self.M. * PAQ + i * EI..Social.A. * PAQ +\\n\",\n",
    "    \"           j * EI..RM. * PAQ + k * Total * PAQ\\n\")\n",
    "\n",
    "# Display the summary of the model\n",
    "summary(nonlinear_model)\n"
   ]
  },
  {
   "cell_type": "code",
   "execution_count": 7,
   "id": "162ea4b2-6014-48bd-a562-31a032c7620d",
   "metadata": {
    "tags": []
   },
   "outputs": [
    {
     "name": "stdout",
     "output_type": "stream",
     "text": [
      "Fitted Coefficients:\n",
      "           a            b            c            d            e            f \n",
      " 0.005634285  0.009812770  0.015111075 -0.001469340 -0.281073093  0.352245124 \n",
      "           g            h            i            j            k \n",
      "-0.002601290 -0.003515274 -0.001519723 -0.003771539  0.138943160 \n",
      "\n",
      "Model Formula:\n",
      "Panas...1 = a * EI..Self.A. + b * EI..Self.M. + c * EI..Social.A. + d * EI..RM. + e * Total + f * PAQ +\n",
      "            g * EI..Self.A. * PAQ + h * EI..Self.M. * PAQ + i * EI..Social.A. * PAQ +\n",
      "            j * EI..RM. * PAQ + k * Total * PAQ\n"
     ]
    },
    {
     "data": {
      "text/plain": [
       "\n",
       "Formula: Panas...1 ~ a * EI..Self.A. + b * EI..Self.M. + c * EI..Social.A. + \n",
       "    d * EI..RM. + e * Total + f * PAQ + g * EI..Self.A. * PAQ + \n",
       "    h * EI..Self.M. * PAQ + i * EI..Social.A. * PAQ + j * EI..RM. * \n",
       "    PAQ + k * Total * PAQ\n",
       "\n",
       "Parameters:\n",
       "   Estimate Std. Error t value Pr(>|t|)  \n",
       "a  0.005634   0.008347   0.675   0.5005  \n",
       "b  0.009813   0.007724   1.270   0.2055  \n",
       "c  0.015111   0.008973   1.684   0.0938 .\n",
       "d -0.001469   0.008800  -0.167   0.8676  \n",
       "e -0.281073   0.128990  -2.179   0.0305 *\n",
       "f  0.352245   0.266066   1.324   0.1871  \n",
       "g -0.002601   0.004248  -0.612   0.5410  \n",
       "h -0.003515   0.003944  -0.891   0.3738  \n",
       "i -0.001520   0.005466  -0.278   0.7813  \n",
       "j -0.003772   0.004915  -0.767   0.4438  \n",
       "k  0.138943   0.070774   1.963   0.0510 .\n",
       "---\n",
       "Signif. codes:  0 ‘***’ 0.001 ‘**’ 0.01 ‘*’ 0.05 ‘.’ 0.1 ‘ ’ 1\n",
       "\n",
       "Residual standard error: 0.41 on 195 degrees of freedom\n",
       "\n",
       "Number of iterations to convergence: 1 \n",
       "Achieved convergence tolerance: 1.363e-07\n"
      ]
     },
     "metadata": {},
     "output_type": "display_data"
    }
   ],
   "source": [
    "# Model 1\n",
    "\n",
    "# Define your variables\n",
    "independent_vars <- c('EI..Self.A.', 'EI..Self.M.', 'EI..Social.A.', 'EI..RM.', 'Total')\n",
    "dependent_var <- 'Panas...1'\n",
    "mediator_var <- 'PAQ'\n",
    "\n",
    "# Load your data (replace 'your_data.csv' with the actual file name)\n",
    "data <- read.csv(\"Complete_Data_Modified.csv\")\n",
    "\n",
    "# Initial guess for the parameters (adjust as needed)\n",
    "initial_parameters <- list(a = 1, b = 1, c = 1, d = 1, e = 1, f = 1, g = 1, h = 1, i = 1, j = 1, k = 1)\n",
    "\n",
    "# Define the nonlinear model with interaction terms\n",
    "nonlinear_model <- nls(Panas...1 ~ a * EI..Self.A. + b * EI..Self.M. + c * EI..Social.A. + d * EI..RM. + e * Total +\n",
    "                       f * PAQ + g * EI..Self.A. * PAQ + h * EI..Self.M. * PAQ + i * EI..Social.A. * PAQ +\n",
    "                       j * EI..RM. * PAQ + k * Total * PAQ,\n",
    "                       data = data,\n",
    "                       start = initial_parameters)\n",
    "\n",
    "# Display the model coefficients and formula\n",
    "cat(\"Fitted Coefficients:\\n\")\n",
    "print(coef(nonlinear_model))\n",
    "\n",
    "cat(\"\\nModel Formula:\\n\")\n",
    "cat(\"Panas...1 = a * EI..Self.A. + b * EI..Self.M. + c * EI..Social.A. + d * EI..RM. + e * Total + f * PAQ +\\n\",\n",
    "    \"           g * EI..Self.A. * PAQ + h * EI..Self.M. * PAQ + i * EI..Social.A. * PAQ +\\n\",\n",
    "    \"           j * EI..RM. * PAQ + k * Total * PAQ\\n\")\n",
    "\n",
    "# Display the summary of the model\n",
    "summary(nonlinear_model)\n"
   ]
  },
  {
   "cell_type": "code",
   "execution_count": 8,
   "id": "eb9c418a-35ff-4a49-b284-c7ba38292fe1",
   "metadata": {
    "tags": []
   },
   "outputs": [
    {
     "name": "stdout",
     "output_type": "stream",
     "text": [
      "Fitted Coefficients:\n",
      "           a            b            c            d            e            f \n",
      " 0.008669129  0.029822227  0.019519398 -0.014623244 -0.243875753  0.827756650 \n",
      "           g            h            i            j            k \n",
      "-0.003066677 -0.011670754 -0.010688635  0.008998125  0.127318633 \n",
      "\n",
      "Model Formula:\n",
      "CBCL = a * EI..Self.A. + b * EI..Self.M. + c * EI..Social.A. + d * EI..RM. + e * Total + f * PAQ +\n",
      "            g * EI..Self.A. * PAQ + h * EI..Self.M. * PAQ + i * EI..Social.A. * PAQ +\n",
      "            j * EI..RM. * PAQ + k * Total * PAQ\n"
     ]
    },
    {
     "data": {
      "text/plain": [
       "\n",
       "Formula: CBCL ~ a * EI..Self.A. + b * EI..Self.M. + c * EI..Social.A. + \n",
       "    d * EI..RM. + e * Total + f * PAQ + g * EI..Self.A. * PAQ + \n",
       "    h * EI..Self.M. * PAQ + i * EI..Social.A. * PAQ + j * EI..RM. * \n",
       "    PAQ + k * Total * PAQ\n",
       "\n",
       "Parameters:\n",
       "   Estimate Std. Error t value Pr(>|t|)  \n",
       "a  0.008669   0.014901   0.582   0.5614  \n",
       "b  0.029822   0.013790   2.163   0.0318 *\n",
       "c  0.019519   0.016019   1.219   0.2245  \n",
       "d -0.014623   0.015709  -0.931   0.3531  \n",
       "e -0.243876   0.230282  -1.059   0.2909  \n",
       "f  0.827757   0.474999   1.743   0.0830 .\n",
       "g -0.003067   0.007584  -0.404   0.6864  \n",
       "h -0.011671   0.007041  -1.658   0.0990 .\n",
       "i -0.010689   0.009759  -1.095   0.2748  \n",
       "j  0.008998   0.008774   1.026   0.3064  \n",
       "k  0.127319   0.126351   1.008   0.3149  \n",
       "---\n",
       "Signif. codes:  0 ‘***’ 0.001 ‘**’ 0.01 ‘*’ 0.05 ‘.’ 0.1 ‘ ’ 1\n",
       "\n",
       "Residual standard error: 0.7319 on 195 degrees of freedom\n",
       "\n",
       "Number of iterations to convergence: 1 \n",
       "Achieved convergence tolerance: 1.206e-07\n"
      ]
     },
     "metadata": {},
     "output_type": "display_data"
    }
   ],
   "source": [
    "# Model 1\n",
    "\n",
    "# Define your variables\n",
    "independent_vars <- c('EI..Self.A.', 'EI..Self.M.', 'EI..Social.A.', 'EI..RM.', 'Total')\n",
    "dependent_var <- 'CBCL'\n",
    "mediator_var <- 'PAQ'\n",
    "\n",
    "# Load your data (replace 'your_data.csv' with the actual file name)\n",
    "data <- read.csv(\"Complete_Data_Modified.csv\")\n",
    "\n",
    "# Initial guess for the parameters (adjust as needed)\n",
    "initial_parameters <- list(a = 1, b = 1, c = 1, d = 1, e = 1, f = 1, g = 1, h = 1, i = 1, j = 1, k = 1)\n",
    "\n",
    "# Define the nonlinear model with interaction terms\n",
    "nonlinear_model <- nls(CBCL ~ a * EI..Self.A. + b * EI..Self.M. + c * EI..Social.A. + d * EI..RM. + e * Total +\n",
    "                       f * PAQ + g * EI..Self.A. * PAQ + h * EI..Self.M. * PAQ + i * EI..Social.A. * PAQ +\n",
    "                       j * EI..RM. * PAQ + k * Total * PAQ,\n",
    "                       data = data,\n",
    "                       start = initial_parameters)\n",
    "\n",
    "# Display the model coefficients and formula\n",
    "cat(\"Fitted Coefficients:\\n\")\n",
    "print(coef(nonlinear_model))\n",
    "\n",
    "cat(\"\\nModel Formula:\\n\")\n",
    "cat(\"CBCL = a * EI..Self.A. + b * EI..Self.M. + c * EI..Social.A. + d * EI..RM. + e * Total + f * PAQ +\\n\",\n",
    "    \"           g * EI..Self.A. * PAQ + h * EI..Self.M. * PAQ + i * EI..Social.A. * PAQ +\\n\",\n",
    "    \"           j * EI..RM. * PAQ + k * Total * PAQ\\n\")\n",
    "\n",
    "# Display the summary of the model\n",
    "summary(nonlinear_model)\n"
   ]
  },
  {
   "cell_type": "code",
   "execution_count": null,
   "id": "ef2c5b92-aa2d-4c13-92f2-aeede4ee1cff",
   "metadata": {},
   "outputs": [],
   "source": []
  }
 ],
 "metadata": {
  "kernelspec": {
   "display_name": "R",
   "language": "R",
   "name": "ir"
  },
  "language_info": {
   "codemirror_mode": "r",
   "file_extension": ".r",
   "mimetype": "text/x-r-source",
   "name": "R",
   "pygments_lexer": "r",
   "version": "4.3.2"
  }
 },
 "nbformat": 4,
 "nbformat_minor": 5
}
