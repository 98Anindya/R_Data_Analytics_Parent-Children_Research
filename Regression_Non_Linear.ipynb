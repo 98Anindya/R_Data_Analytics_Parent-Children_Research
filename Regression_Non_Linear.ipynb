{
 "cells": [
  {
   "cell_type": "code",
   "execution_count": 1,
   "id": "5988f80a-60c9-4475-b596-c7f361724482",
   "metadata": {
    "tags": []
   },
   "outputs": [
    {
     "name": "stdout",
     "output_type": "stream",
     "text": [
      "Fitted Coefficients:\n",
      "            a             b             c             d             e \n",
      " 0.1231050805  0.2256167879  0.0003251576  0.1796053621  0.3799882346 \n",
      "            f \n",
      "-0.1064233145 \n",
      "\n",
      "Model Formula:\n",
      "Panas.. = a * BFI..E. + b * BFI..A. + c * BFI..C. + d * BFI..N. + e * BFI..O. + f * PAQ\n"
     ]
    },
    {
     "data": {
      "text/plain": [
       "\n",
       "Formula: Panas.. ~ a * BFI..E. + b * BFI..A. + c * BFI..C. + d * BFI..N. + \n",
       "    e * BFI..O. + f * PAQ\n",
       "\n",
       "Parameters:\n",
       "    Estimate Std. Error t value Pr(>|t|)    \n",
       "a  0.1231051  0.0851504   1.446  0.14982    \n",
       "b  0.2256168  0.0919596   2.453  0.01501 *  \n",
       "c  0.0003252  0.0908500   0.004  0.99715    \n",
       "d  0.1796054  0.0636745   2.821  0.00528 ** \n",
       "e  0.3799882  0.1027501   3.698  0.00028 ***\n",
       "f -0.1064233  0.0563148  -1.890  0.06023 .  \n",
       "---\n",
       "Signif. codes:  0 ‘***’ 0.001 ‘**’ 0.01 ‘*’ 0.05 ‘.’ 0.1 ‘ ’ 1\n",
       "\n",
       "Residual standard error: 0.5886 on 200 degrees of freedom\n",
       "\n",
       "Number of iterations to convergence: 1 \n",
       "Achieved convergence tolerance: 2.816e-06\n"
      ]
     },
     "metadata": {},
     "output_type": "display_data"
    }
   ],
   "source": [
    "# Model 2\n",
    "# Assuming you have a data frame named 'data' with columns: BFI..E., BFI..A., BFI..C., BFI..N., BFI..O., Panas.., PAQ\n",
    "data <- read.csv(\"Complete_Data_Modified.csv\")\n",
    "\n",
    "# Define your variables\n",
    "independent_vars <- c('BFI..E.', 'BFI..A.', 'BFI..C.', 'BFI..N.', 'BFI..O.')\n",
    "dependent_var <- 'Panas..'\n",
    "mediator_var <- 'PAQ'\n",
    "\n",
    "# Initial guess for the parameters (adjust as needed)\n",
    "initial_parameters <- list(a = 1, b = 1, c = 1, d = 1, e = 1, f = 1)\n",
    "\n",
    "# Define the nonlinear model\n",
    "nonlinear_model <- nls(Panas.. ~ a * BFI..E. + b * BFI..A. + c * BFI..C. + d * BFI..N. + e * BFI..O. + f * PAQ,\n",
    "                       data = data,\n",
    "                       start = initial_parameters)\n",
    "\n",
    "# Display the model coefficients and formula\n",
    "cat(\"Fitted Coefficients:\\n\")\n",
    "print(coef(nonlinear_model))\n",
    "\n",
    "cat(\"\\nModel Formula:\\n\")\n",
    "cat(\"Panas.. = a * BFI..E. + b * BFI..A. + c * BFI..C. + d * BFI..N. + e * BFI..O. + f * PAQ\\n\")\n",
    "\n",
    "#residuals(nonlinear_model)  # Access the residuals\n",
    "\n",
    "# Display the summary of the model\n",
    "summary(nonlinear_model)\n",
    "\n"
   ]
  },
  {
   "cell_type": "code",
   "execution_count": 2,
   "id": "54bf0219-2fbe-4cdf-b7d3-3730d312eda2",
   "metadata": {
    "tags": []
   },
   "outputs": [
    {
     "name": "stdout",
     "output_type": "stream",
     "text": [
      "Fitted Coefficients:\n",
      "          a           b           c           d           e           f \n",
      " 0.02401384  0.05685320  0.21472128  0.24344070  0.13998985 -0.06541089 \n",
      "\n",
      "Model Formula:\n",
      "Panas...1 = a * BFI..E. + b * BFI..A. + c * BFI..C. + d * BFI..N. + e * BFI..O. + f * PAQ\n"
     ]
    },
    {
     "data": {
      "text/plain": [
       "\n",
       "Formula: Panas...1 ~ a * BFI..E. + b * BFI..A. + c * BFI..C. + d * BFI..N. + \n",
       "    e * BFI..O. + f * PAQ\n",
       "\n",
       "Parameters:\n",
       "  Estimate Std. Error t value Pr(>|t|)    \n",
       "a  0.02401    0.06393   0.376  0.70758    \n",
       "b  0.05685    0.06904   0.823  0.41121    \n",
       "c  0.21472    0.06821   3.148  0.00189 ** \n",
       "d  0.24344    0.04780   5.092 8.14e-07 ***\n",
       "e  0.13999    0.07714   1.815  0.07106 .  \n",
       "f -0.06541    0.04228  -1.547  0.12341    \n",
       "---\n",
       "Signif. codes:  0 ‘***’ 0.001 ‘**’ 0.01 ‘*’ 0.05 ‘.’ 0.1 ‘ ’ 1\n",
       "\n",
       "Residual standard error: 0.4419 on 200 degrees of freedom\n",
       "\n",
       "Number of iterations to convergence: 1 \n",
       "Achieved convergence tolerance: 4.962e-08\n"
      ]
     },
     "metadata": {},
     "output_type": "display_data"
    }
   ],
   "source": [
    "# Model 2\n",
    "# Assuming you have a data frame named 'data' with columns: BFI..E., BFI..A., BFI..C., BFI..N., BFI..O., Panas...1, PAQ\n",
    "data <- read.csv(\"Complete_Data_Modified.csv\")\n",
    "\n",
    "# Define your variables\n",
    "independent_vars <- c('BFI..E.', 'BFI..A.', 'BFI..C.', 'BFI..N.', 'BFI..O.')\n",
    "dependent_var <- 'Panas...1'\n",
    "mediator_var <- 'PAQ'\n",
    "\n",
    "# Initial guess for the parameters (adjust as needed)\n",
    "initial_parameters <- list(a = 1, b = 1, c = 1, d = 1, e = 1, f = 1)\n",
    "\n",
    "# Define the nonlinear model\n",
    "nonlinear_model <- nls(Panas...1 ~ a * BFI..E. + b * BFI..A. + c * BFI..C. + d * BFI..N. + e * BFI..O. + f * PAQ,\n",
    "                       data = data,\n",
    "                       start = initial_parameters)\n",
    "\n",
    "# Display the model coefficients and formula\n",
    "cat(\"Fitted Coefficients:\\n\")\n",
    "print(coef(nonlinear_model))\n",
    "\n",
    "cat(\"\\nModel Formula:\\n\")\n",
    "cat(\"Panas...1 = a * BFI..E. + b * BFI..A. + c * BFI..C. + d * BFI..N. + e * BFI..O. + f * PAQ\\n\")\n",
    "\n",
    "#residuals(nonlinear_model)  # Access the residuals\n",
    "\n",
    "# Display the summary of the model\n",
    "summary(nonlinear_model)\n",
    "\n"
   ]
  },
  {
   "cell_type": "code",
   "execution_count": 4,
   "id": "89e19dea-6d77-4e1c-a4d4-bed2b054dbbb",
   "metadata": {
    "tags": []
   },
   "outputs": [
    {
     "name": "stdout",
     "output_type": "stream",
     "text": [
      "Fitted Coefficients:\n",
      "           a            b            c            d            e            f \n",
      " 0.348180733 -0.091720702  0.117568530  0.567517272  0.225236921  0.007797156 \n",
      "\n",
      "Model Formula:\n",
      "CBCL = a * BFI..E. + b * BFI..A. + c * BFI..C. + d * BFI..N. + e * BFI..O. + f * PAQ\n"
     ]
    },
    {
     "data": {
      "text/plain": [
       "\n",
       "Formula: CBCL ~ a * BFI..E. + b * BFI..A. + c * BFI..C. + d * BFI..N. + \n",
       "    e * BFI..O. + f * PAQ\n",
       "\n",
       "Parameters:\n",
       "   Estimate Std. Error t value Pr(>|t|)    \n",
       "a  0.348181   0.112178   3.104  0.00219 ** \n",
       "b -0.091721   0.121148  -0.757  0.44988    \n",
       "c  0.117569   0.119686   0.982  0.32714    \n",
       "d  0.567517   0.083886   6.765 1.44e-10 ***\n",
       "e  0.225237   0.135364   1.664  0.09769 .  \n",
       "f  0.007797   0.074190   0.105  0.91640    \n",
       "---\n",
       "Signif. codes:  0 ‘***’ 0.001 ‘**’ 0.01 ‘*’ 0.05 ‘.’ 0.1 ‘ ’ 1\n",
       "\n",
       "Residual standard error: 0.7754 on 200 degrees of freedom\n",
       "\n",
       "Number of iterations to convergence: 1 \n",
       "Achieved convergence tolerance: 3.211e-07\n"
      ]
     },
     "metadata": {},
     "output_type": "display_data"
    }
   ],
   "source": [
    "# Model 2\n",
    "# Assuming you have a data frame named 'data' with columns: BFI..E., BFI..A., BFI..C., BFI..N., BFI..O., Panas...1, PAQ\n",
    "data <- read.csv(\"Complete_Data_Modified.csv\")\n",
    "\n",
    "# Define your variables\n",
    "independent_vars <- c('BFI..E.', 'BFI..A.', 'BFI..C.', 'BFI..N.', 'BFI..O.')\n",
    "dependent_var <- 'CBCL'\n",
    "mediator_var <- 'PAQ'\n",
    "\n",
    "# Initial guess for the parameters (adjust as needed)\n",
    "initial_parameters <- list(a = 1, b = 1, c = 1, d = 1, e = 1, f = 1)\n",
    "\n",
    "# Define the nonlinear model\n",
    "nonlinear_model <- nls(CBCL ~ a * BFI..E. + b * BFI..A. + c * BFI..C. + d * BFI..N. + e * BFI..O. + f * PAQ,\n",
    "                       data = data,\n",
    "                       start = initial_parameters)\n",
    "\n",
    "# Display the model coefficients and formula\n",
    "cat(\"Fitted Coefficients:\\n\")\n",
    "print(coef(nonlinear_model))\n",
    "\n",
    "cat(\"\\nModel Formula:\\n\")\n",
    "cat(\"CBCL = a * BFI..E. + b * BFI..A. + c * BFI..C. + d * BFI..N. + e * BFI..O. + f * PAQ\\n\")\n",
    "\n",
    "#residuals(nonlinear_model)  # Access the residuals\n",
    "\n",
    "# Display the summary of the model\n",
    "summary(nonlinear_model)\n",
    "\n"
   ]
  },
  {
   "cell_type": "code",
   "execution_count": 5,
   "id": "0d58d737-a777-4a7b-95e8-53d413d971ba",
   "metadata": {
    "tags": []
   },
   "outputs": [
    {
     "name": "stdout",
     "output_type": "stream",
     "text": [
      "Fitted Coefficients:\n",
      "            a             b             c             d             e \n",
      " 0.0139406756  0.0118589558  0.0091191634  0.0002821801 -0.3059018756 \n",
      "            f \n",
      "-0.0628522582 \n",
      "\n",
      "Model Formula:\n",
      "Panas.. = a * EI..Self.A. + b * EI..Self.M. + c * EI..Social.A. + d * EI..RM. + e * Total + f * PAQ\n"
     ]
    },
    {
     "data": {
      "text/plain": [
       "\n",
       "Formula: Panas.. ~ a * EI..Self.A. + b * EI..Self.M. + c * EI..Social.A. + \n",
       "    d * EI..RM. + e * Total + f * PAQ\n",
       "\n",
       "Parameters:\n",
       "    Estimate Std. Error t value Pr(>|t|)    \n",
       "a  0.0139407  0.0051482   2.708 0.007358 ** \n",
       "b  0.0118590  0.0045646   2.598 0.010074 *  \n",
       "c  0.0091192  0.0055811   1.634 0.103845    \n",
       "d  0.0002822  0.0054271   0.052 0.958585    \n",
       "e -0.3059019  0.0807584  -3.788 0.000201 ***\n",
       "f -0.0628523  0.0550553  -1.142 0.254977    \n",
       "---\n",
       "Signif. codes:  0 ‘***’ 0.001 ‘**’ 0.01 ‘*’ 0.05 ‘.’ 0.1 ‘ ’ 1\n",
       "\n",
       "Residual standard error: 0.5982 on 200 degrees of freedom\n",
       "\n",
       "Number of iterations to convergence: 1 \n",
       "Achieved convergence tolerance: 2.896e-07\n"
      ]
     },
     "metadata": {},
     "output_type": "display_data"
    }
   ],
   "source": [
    "# Model 2\n",
    "# Assuming you have a data frame named 'data' with columns: EI..Self.A., EI..Self.M., EI..Social.A., EI..RM., Total, Panas.., PAQ\n",
    "data <- read.csv(\"Complete_Data_Modified.csv\")\n",
    "\n",
    "# Define your variables\n",
    "independent_vars <- c('EI..Self.A.', 'EI..Self.M.', 'EI..Social.A.', 'EI..RM.', 'Total')\n",
    "dependent_var <- 'Panas..'\n",
    "mediator_var <- 'PAQ'\n",
    "\n",
    "# Initial guess for the parameters (adjust as needed)\n",
    "initial_parameters <- list(a = 1, b = 1, c = 1, d = 1, e = 1, f = 1)\n",
    "\n",
    "# Define the nonlinear model\n",
    "nonlinear_model <- nls(Panas.. ~ a * EI..Self.A. + b * EI..Self.M. + c * EI..Social.A. + d * EI..RM. + e * Total + f * PAQ,\n",
    "                       data = data,\n",
    "                       start = initial_parameters)\n",
    "\n",
    "# Display the model coefficients and formula\n",
    "cat(\"Fitted Coefficients:\\n\")\n",
    "print(coef(nonlinear_model))\n",
    "\n",
    "cat(\"\\nModel Formula:\\n\")\n",
    "cat(\"Panas.. = a * EI..Self.A. + b * EI..Self.M. + c * EI..Social.A. + d * EI..RM. + e * Total + f * PAQ\\n\")\n",
    "\n",
    "#residuals(nonlinear_model)  # Access the residuals\n",
    "\n",
    "# Display the summary of the model\n",
    "summary(nonlinear_model)\n"
   ]
  },
  {
   "cell_type": "code",
   "execution_count": 6,
   "id": "f37dd5fc-2974-4cda-8f54-8da63ca9e064",
   "metadata": {
    "tags": []
   },
   "outputs": [
    {
     "name": "stdout",
     "output_type": "stream",
     "text": [
      "Fitted Coefficients:\n",
      "           a            b            c            d            e            f \n",
      " 0.004738517  0.005746909  0.017362128 -0.006548561 -0.113159044 -0.040845458 \n",
      "\n",
      "Model Formula:\n",
      "Panas...1 = a * EI..Self.A. + b * EI..Self.M. + c * EI..Social.A. + d * EI..RM. + e * Total + f * PAQ\n"
     ]
    },
    {
     "data": {
      "text/plain": [
       "\n",
       "Formula: Panas...1 ~ a * EI..Self.A. + b * EI..Self.M. + c * EI..Social.A. + \n",
       "    d * EI..RM. + e * Total + f * PAQ\n",
       "\n",
       "Parameters:\n",
       "   Estimate Std. Error t value Pr(>|t|)    \n",
       "a  0.004739   0.003534   1.341   0.1815    \n",
       "b  0.005747   0.003134   1.834   0.0682 .  \n",
       "c  0.017362   0.003832   4.531 1.01e-05 ***\n",
       "d -0.006549   0.003726  -1.758   0.0803 .  \n",
       "e -0.113159   0.055444  -2.041   0.0426 *  \n",
       "f -0.040845   0.037798  -1.081   0.2812    \n",
       "---\n",
       "Signif. codes:  0 ‘***’ 0.001 ‘**’ 0.01 ‘*’ 0.05 ‘.’ 0.1 ‘ ’ 1\n",
       "\n",
       "Residual standard error: 0.4107 on 200 degrees of freedom\n",
       "\n",
       "Number of iterations to convergence: 1 \n",
       "Achieved convergence tolerance: 2.919e-08\n"
      ]
     },
     "metadata": {},
     "output_type": "display_data"
    }
   ],
   "source": [
    "# Model 2\n",
    "# Assuming you have a data frame named 'data' with columns: EI..Self.A., EI..Self.M., EI..Social.A., EI..RM., Total, Panas.., PAQ\n",
    "data <- read.csv(\"Complete_Data_Modified.csv\")\n",
    "\n",
    "# Define your variables\n",
    "independent_vars <- c('EI..Self.A.', 'EI..Self.M.', 'EI..Social.A.', 'EI..RM.', 'Total')\n",
    "dependent_var <- 'Panas...1'\n",
    "mediator_var <- 'PAQ'\n",
    "\n",
    "# Initial guess for the parameters (adjust as needed)\n",
    "initial_parameters <- list(a = 1, b = 1, c = 1, d = 1, e = 1, f = 1)\n",
    "\n",
    "# Define the nonlinear model\n",
    "nonlinear_model <- nls(Panas...1 ~ a * EI..Self.A. + b * EI..Self.M. + c * EI..Social.A. + d * EI..RM. + e * Total + f * PAQ,\n",
    "                       data = data,\n",
    "                       start = initial_parameters)\n",
    "\n",
    "# Display the model coefficients and formula\n",
    "cat(\"Fitted Coefficients:\\n\")\n",
    "print(coef(nonlinear_model))\n",
    "\n",
    "cat(\"\\nModel Formula:\\n\")\n",
    "cat(\"Panas...1 = a * EI..Self.A. + b * EI..Self.M. + c * EI..Social.A. + d * EI..RM. + e * Total + f * PAQ\\n\")\n",
    "\n",
    "#residuals(nonlinear_model)  # Access the residuals\n",
    "\n",
    "# Display the summary of the model\n",
    "summary(nonlinear_model)\n"
   ]
  },
  {
   "cell_type": "code",
   "execution_count": 7,
   "id": "c29b5d30-8d08-4894-916e-2cd83e2b8a17",
   "metadata": {
    "tags": []
   },
   "outputs": [
    {
     "name": "stdout",
     "output_type": "stream",
     "text": [
      "Fitted Coefficients:\n",
      "           a            b            c            d            e            f \n",
      " 0.011329674  0.013885071  0.011294803  0.003867066 -0.186026861  0.015969155 \n",
      "\n",
      "Model Formula:\n",
      "CBCL = a * EI..Self.A. + b * EI..Self.M. + c * EI..Social.A. + d * EI..RM. + e * Total + f * PAQ\n"
     ]
    },
    {
     "data": {
      "text/plain": [
       "\n",
       "Formula: CBCL ~ a * EI..Self.A. + b * EI..Self.M. + c * EI..Social.A. + \n",
       "    d * EI..RM. + e * Total + f * PAQ\n",
       "\n",
       "Parameters:\n",
       "   Estimate Std. Error t value Pr(>|t|)  \n",
       "a  0.011330   0.006317   1.794   0.0744 .\n",
       "b  0.013885   0.005601   2.479   0.0140 *\n",
       "c  0.011295   0.006848   1.649   0.1006  \n",
       "d  0.003867   0.006659   0.581   0.5621  \n",
       "e -0.186027   0.099087  -1.877   0.0619 .\n",
       "f  0.015969   0.067550   0.236   0.8134  \n",
       "---\n",
       "Signif. codes:  0 ‘***’ 0.001 ‘**’ 0.01 ‘*’ 0.05 ‘.’ 0.1 ‘ ’ 1\n",
       "\n",
       "Residual standard error: 0.734 on 200 degrees of freedom\n",
       "\n",
       "Number of iterations to convergence: 1 \n",
       "Achieved convergence tolerance: 8.366e-08\n"
      ]
     },
     "metadata": {},
     "output_type": "display_data"
    }
   ],
   "source": [
    "# Model 2\n",
    "# Assuming you have a data frame named 'data' with columns: EI..Self.A., EI..Self.M., EI..Social.A., EI..RM., Total, Panas.., PAQ\n",
    "data <- read.csv(\"Complete_Data_Modified.csv\")\n",
    "\n",
    "# Define your variables\n",
    "independent_vars <- c('EI..Self.A.', 'EI..Self.M.', 'EI..Social.A.', 'EI..RM.', 'Total')\n",
    "dependent_var <- 'CBCL'\n",
    "mediator_var <- 'PAQ'\n",
    "\n",
    "# Initial guess for the parameters (adjust as needed)\n",
    "initial_parameters <- list(a = 1, b = 1, c = 1, d = 1, e = 1, f = 1)\n",
    "\n",
    "# Define the nonlinear model\n",
    "nonlinear_model <- nls(CBCL ~ a * EI..Self.A. + b * EI..Self.M. + c * EI..Social.A. + d * EI..RM. + e * Total + f * PAQ,\n",
    "                       data = data,\n",
    "                       start = initial_parameters)\n",
    "\n",
    "# Display the model coefficients and formula\n",
    "cat(\"Fitted Coefficients:\\n\")\n",
    "print(coef(nonlinear_model))\n",
    "\n",
    "cat(\"\\nModel Formula:\\n\")\n",
    "cat(\"CBCL = a * EI..Self.A. + b * EI..Self.M. + c * EI..Social.A. + d * EI..RM. + e * Total + f * PAQ\\n\")\n",
    "\n",
    "#residuals(nonlinear_model)  # Access the residuals\n",
    "\n",
    "# Display the summary of the model\n",
    "summary(nonlinear_model)\n"
   ]
  },
  {
   "cell_type": "code",
   "execution_count": null,
   "id": "d10ea0e8-f368-4bf0-a00f-f783438759ec",
   "metadata": {},
   "outputs": [],
   "source": []
  }
 ],
 "metadata": {
  "kernelspec": {
   "display_name": "R",
   "language": "R",
   "name": "ir"
  },
  "language_info": {
   "codemirror_mode": "r",
   "file_extension": ".r",
   "mimetype": "text/x-r-source",
   "name": "R",
   "pygments_lexer": "r",
   "version": "4.3.3"
  }
 },
 "nbformat": 4,
 "nbformat_minor": 5
}
